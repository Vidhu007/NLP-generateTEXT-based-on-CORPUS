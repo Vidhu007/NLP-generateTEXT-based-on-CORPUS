{
  "nbformat": 4,
  "nbformat_minor": 0,
  "metadata": {
    "colab": {
      "name": "TextGeneration.ipynb",
      "provenance": []
    },
    "kernelspec": {
      "name": "python3",
      "display_name": "Python 3"
    },
    "language_info": {
      "name": "python"
    },
    "accelerator": "GPU"
  },
  "cells": [
    {
      "cell_type": "code",
      "execution_count": 1,
      "metadata": {
        "id": "aIQhBvarqPHC"
      },
      "outputs": [],
      "source": [
        "%tensorflow_version 2.x\n",
        "import numpy as np\n",
        "import pandas as pd\n",
        "import matplotlib.pyplot as plt\n",
        "import tensorflow as tf"
      ]
    },
    {
      "cell_type": "code",
      "source": [
        "path_to_file = 'https://github.com/Vidhu007/Media/raw/main/datasets/shakespeare.txt'"
      ],
      "metadata": {
        "id": "BKEvltLxs0Ui"
      },
      "execution_count": 2,
      "outputs": []
    },
    {
      "cell_type": "markdown",
      "source": [
        "## Step 1: The Data\n",
        "\n",
        "\n",
        "We'll choose all of shakespeare's works (which we have already downloaded for you), mainly for two reasons:\n",
        "\n",
        "1. Its a large corpus of text, its usually recommended you have at least a source of 1 million characters total to get realistic text generation.\n",
        "\n",
        "2. It has a very distinctive style. Since the text data uses old style english and is formatted in the style of a stage play, it will be very obvious to us if the model is able to reproduce similar results."
      ],
      "metadata": {
        "id": "LIdS1KDfdrfH"
      }
    },
    {
      "cell_type": "code",
      "source": [
        "import requests\n",
        "\n",
        "response = requests.get('https://github.com/Vidhu007/Media/raw/main/datasets/shakespeare.txt')\n",
        "text = response.text"
      ],
      "metadata": {
        "id": "oaoh_uqGtRJY"
      },
      "execution_count": 3,
      "outputs": []
    },
    {
      "cell_type": "code",
      "source": [
        "#text = open(path_to_file, 'r').read()\n",
        "print(text[:500])"
      ],
      "metadata": {
        "colab": {
          "base_uri": "https://localhost:8080/"
        },
        "id": "5OUEThVxs_FB",
        "outputId": "cdd7f9a7-f3c9-4e46-ab69-087cc37d7502"
      },
      "execution_count": 4,
      "outputs": [
        {
          "output_type": "stream",
          "name": "stdout",
          "text": [
            "\n",
            "                     1\n",
            "  From fairest creatures we desire increase,\n",
            "  That thereby beauty's rose might never die,\n",
            "  But as the riper should by time decease,\n",
            "  His tender heir might bear his memory:\n",
            "  But thou contracted to thine own bright eyes,\n",
            "  Feed'st thy light's flame with self-substantial fuel,\n",
            "  Making a famine where abundance lies,\n",
            "  Thy self thy foe, to thy sweet self too cruel:\n",
            "  Thou that art now the world's fresh ornament,\n",
            "  And only herald to the gaudy spring,\n",
            "  Within thine own bu\n"
          ]
        }
      ]
    },
    {
      "cell_type": "code",
      "source": [
        "vocab = sorted(set(text))\n",
        "print(vocab)"
      ],
      "metadata": {
        "colab": {
          "base_uri": "https://localhost:8080/"
        },
        "id": "tIWwA8i5tsKl",
        "outputId": "d4b5bc41-da39-4867-ddce-80d2a56c7ba8"
      },
      "execution_count": 5,
      "outputs": [
        {
          "output_type": "stream",
          "name": "stdout",
          "text": [
            "['\\n', ' ', '!', '\"', '&', \"'\", '(', ')', ',', '-', '.', '0', '1', '2', '3', '4', '5', '6', '7', '8', '9', ':', ';', '<', '>', '?', 'A', 'B', 'C', 'D', 'E', 'F', 'G', 'H', 'I', 'J', 'K', 'L', 'M', 'N', 'O', 'P', 'Q', 'R', 'S', 'T', 'U', 'V', 'W', 'X', 'Y', 'Z', '[', ']', '_', '`', 'a', 'b', 'c', 'd', 'e', 'f', 'g', 'h', 'i', 'j', 'k', 'l', 'm', 'n', 'o', 'p', 'q', 'r', 's', 't', 'u', 'v', 'w', 'x', 'y', 'z', '|', '}']\n"
          ]
        }
      ]
    },
    {
      "cell_type": "code",
      "source": [
        "len(vocab)"
      ],
      "metadata": {
        "colab": {
          "base_uri": "https://localhost:8080/"
        },
        "id": "HGUXeN8ftvgj",
        "outputId": "6cdf2cd5-2f15-40d6-e4f7-dee830ed5793"
      },
      "execution_count": 6,
      "outputs": [
        {
          "output_type": "execute_result",
          "data": {
            "text/plain": [
              "84"
            ]
          },
          "metadata": {},
          "execution_count": 6
        }
      ]
    },
    {
      "cell_type": "markdown",
      "source": [
        "## Step 2\n",
        "### Text Vectorization\n",
        "\n",
        "We know a neural network can't take in the raw string data, we need to assign numbers to each character. Let's create two dictionaries that can go from numeric index to character and character to numeric index."
      ],
      "metadata": {
        "id": "u3dqVASAdxo8"
      }
    },
    {
      "cell_type": "code",
      "source": [
        "char_to_ind = {u:i for i, u in enumerate(vocab)}\n",
        "char_to_ind"
      ],
      "metadata": {
        "colab": {
          "base_uri": "https://localhost:8080/"
        },
        "id": "cuwBSHHOuEJY",
        "outputId": "e3ee4548-7217-46cd-f157-499879f8601b"
      },
      "execution_count": 7,
      "outputs": [
        {
          "output_type": "execute_result",
          "data": {
            "text/plain": [
              "{'\\n': 0,\n",
              " ' ': 1,\n",
              " '!': 2,\n",
              " '\"': 3,\n",
              " '&': 4,\n",
              " \"'\": 5,\n",
              " '(': 6,\n",
              " ')': 7,\n",
              " ',': 8,\n",
              " '-': 9,\n",
              " '.': 10,\n",
              " '0': 11,\n",
              " '1': 12,\n",
              " '2': 13,\n",
              " '3': 14,\n",
              " '4': 15,\n",
              " '5': 16,\n",
              " '6': 17,\n",
              " '7': 18,\n",
              " '8': 19,\n",
              " '9': 20,\n",
              " ':': 21,\n",
              " ';': 22,\n",
              " '<': 23,\n",
              " '>': 24,\n",
              " '?': 25,\n",
              " 'A': 26,\n",
              " 'B': 27,\n",
              " 'C': 28,\n",
              " 'D': 29,\n",
              " 'E': 30,\n",
              " 'F': 31,\n",
              " 'G': 32,\n",
              " 'H': 33,\n",
              " 'I': 34,\n",
              " 'J': 35,\n",
              " 'K': 36,\n",
              " 'L': 37,\n",
              " 'M': 38,\n",
              " 'N': 39,\n",
              " 'O': 40,\n",
              " 'P': 41,\n",
              " 'Q': 42,\n",
              " 'R': 43,\n",
              " 'S': 44,\n",
              " 'T': 45,\n",
              " 'U': 46,\n",
              " 'V': 47,\n",
              " 'W': 48,\n",
              " 'X': 49,\n",
              " 'Y': 50,\n",
              " 'Z': 51,\n",
              " '[': 52,\n",
              " ']': 53,\n",
              " '_': 54,\n",
              " '`': 55,\n",
              " 'a': 56,\n",
              " 'b': 57,\n",
              " 'c': 58,\n",
              " 'd': 59,\n",
              " 'e': 60,\n",
              " 'f': 61,\n",
              " 'g': 62,\n",
              " 'h': 63,\n",
              " 'i': 64,\n",
              " 'j': 65,\n",
              " 'k': 66,\n",
              " 'l': 67,\n",
              " 'm': 68,\n",
              " 'n': 69,\n",
              " 'o': 70,\n",
              " 'p': 71,\n",
              " 'q': 72,\n",
              " 'r': 73,\n",
              " 's': 74,\n",
              " 't': 75,\n",
              " 'u': 76,\n",
              " 'v': 77,\n",
              " 'w': 78,\n",
              " 'x': 79,\n",
              " 'y': 80,\n",
              " 'z': 81,\n",
              " '|': 82,\n",
              " '}': 83}"
            ]
          },
          "metadata": {},
          "execution_count": 7
        }
      ]
    },
    {
      "cell_type": "code",
      "source": [
        "char_to_ind['H']"
      ],
      "metadata": {
        "colab": {
          "base_uri": "https://localhost:8080/"
        },
        "id": "grnKSviuuc5g",
        "outputId": "e50a8f8c-7d66-4fad-bf4e-4e516ba54d79"
      },
      "execution_count": 8,
      "outputs": [
        {
          "output_type": "execute_result",
          "data": {
            "text/plain": [
              "33"
            ]
          },
          "metadata": {},
          "execution_count": 8
        }
      ]
    },
    {
      "cell_type": "code",
      "source": [
        "ind_to_char = np.array(vocab)\n",
        "ind_to_char"
      ],
      "metadata": {
        "colab": {
          "base_uri": "https://localhost:8080/"
        },
        "id": "3gbC7tX0uT2V",
        "outputId": "ffa9f105-91a4-4dfb-8f1f-e5e68eb1c337"
      },
      "execution_count": 9,
      "outputs": [
        {
          "output_type": "execute_result",
          "data": {
            "text/plain": [
              "array(['\\n', ' ', '!', '\"', '&', \"'\", '(', ')', ',', '-', '.', '0', '1',\n",
              "       '2', '3', '4', '5', '6', '7', '8', '9', ':', ';', '<', '>', '?',\n",
              "       'A', 'B', 'C', 'D', 'E', 'F', 'G', 'H', 'I', 'J', 'K', 'L', 'M',\n",
              "       'N', 'O', 'P', 'Q', 'R', 'S', 'T', 'U', 'V', 'W', 'X', 'Y', 'Z',\n",
              "       '[', ']', '_', '`', 'a', 'b', 'c', 'd', 'e', 'f', 'g', 'h', 'i',\n",
              "       'j', 'k', 'l', 'm', 'n', 'o', 'p', 'q', 'r', 's', 't', 'u', 'v',\n",
              "       'w', 'x', 'y', 'z', '|', '}'], dtype='<U1')"
            ]
          },
          "metadata": {},
          "execution_count": 9
        }
      ]
    },
    {
      "cell_type": "code",
      "source": [
        "ind_to_char[33]"
      ],
      "metadata": {
        "colab": {
          "base_uri": "https://localhost:8080/",
          "height": 35
        },
        "id": "DpyCHp-iug8P",
        "outputId": "fb854583-a356-40e8-b2fe-5122787ed41c"
      },
      "execution_count": 10,
      "outputs": [
        {
          "output_type": "execute_result",
          "data": {
            "text/plain": [
              "'H'"
            ],
            "application/vnd.google.colaboratory.intrinsic+json": {
              "type": "string"
            }
          },
          "metadata": {},
          "execution_count": 10
        }
      ]
    },
    {
      "cell_type": "code",
      "source": [
        "encoded_text = np.array([char_to_ind[c] for c in text])\n",
        "encoded_text"
      ],
      "metadata": {
        "colab": {
          "base_uri": "https://localhost:8080/"
        },
        "id": "V1GnZiXqus0R",
        "outputId": "e2dfd390-14d9-47f8-e783-ebc5aae5a3ee"
      },
      "execution_count": 11,
      "outputs": [
        {
          "output_type": "execute_result",
          "data": {
            "text/plain": [
              "array([ 0,  1,  1, ..., 30, 39, 29])"
            ]
          },
          "metadata": {},
          "execution_count": 11
        }
      ]
    },
    {
      "cell_type": "code",
      "source": [
        "encoded_text.shape"
      ],
      "metadata": {
        "colab": {
          "base_uri": "https://localhost:8080/"
        },
        "id": "Ag3OvYLKu75e",
        "outputId": "b99715bf-198b-4664-b11a-ffe37a4b77d1"
      },
      "execution_count": 12,
      "outputs": [
        {
          "output_type": "execute_result",
          "data": {
            "text/plain": [
              "(5445609,)"
            ]
          },
          "metadata": {},
          "execution_count": 12
        }
      ]
    },
    {
      "cell_type": "markdown",
      "source": [
        "5 milloon characters which is more than useful"
      ],
      "metadata": {
        "id": "0PpOz4mLu9cl"
      }
    },
    {
      "cell_type": "markdown",
      "source": [
        "We now have a mapping we can use to go back and forth from characters to numerics."
      ],
      "metadata": {
        "id": "n9DIsncWvJzl"
      }
    },
    {
      "cell_type": "code",
      "source": [
        "sample = text[:500]\n",
        "sample"
      ],
      "metadata": {
        "colab": {
          "base_uri": "https://localhost:8080/",
          "height": 107
        },
        "id": "vgM5B465vLED",
        "outputId": "4d16b040-5b0d-43c6-d708-d2229947c7b4"
      },
      "execution_count": 13,
      "outputs": [
        {
          "output_type": "execute_result",
          "data": {
            "text/plain": [
              "\"\\n                     1\\n  From fairest creatures we desire increase,\\n  That thereby beauty's rose might never die,\\n  But as the riper should by time decease,\\n  His tender heir might bear his memory:\\n  But thou contracted to thine own bright eyes,\\n  Feed'st thy light's flame with self-substantial fuel,\\n  Making a famine where abundance lies,\\n  Thy self thy foe, to thy sweet self too cruel:\\n  Thou that art now the world's fresh ornament,\\n  And only herald to the gaudy spring,\\n  Within thine own bu\""
            ],
            "application/vnd.google.colaboratory.intrinsic+json": {
              "type": "string"
            }
          },
          "metadata": {},
          "execution_count": 13
        }
      ]
    },
    {
      "cell_type": "code",
      "source": [
        "encoded_text[:500]"
      ],
      "metadata": {
        "colab": {
          "base_uri": "https://localhost:8080/"
        },
        "id": "JJKdUjTTvQuK",
        "outputId": "a424ebc1-345f-46e5-9d40-c34a6041280e"
      },
      "execution_count": 14,
      "outputs": [
        {
          "output_type": "execute_result",
          "data": {
            "text/plain": [
              "array([ 0,  1,  1,  1,  1,  1,  1,  1,  1,  1,  1,  1,  1,  1,  1,  1,  1,\n",
              "        1,  1,  1,  1,  1, 12,  0,  1,  1, 31, 73, 70, 68,  1, 61, 56, 64,\n",
              "       73, 60, 74, 75,  1, 58, 73, 60, 56, 75, 76, 73, 60, 74,  1, 78, 60,\n",
              "        1, 59, 60, 74, 64, 73, 60,  1, 64, 69, 58, 73, 60, 56, 74, 60,  8,\n",
              "        0,  1,  1, 45, 63, 56, 75,  1, 75, 63, 60, 73, 60, 57, 80,  1, 57,\n",
              "       60, 56, 76, 75, 80,  5, 74,  1, 73, 70, 74, 60,  1, 68, 64, 62, 63,\n",
              "       75,  1, 69, 60, 77, 60, 73,  1, 59, 64, 60,  8,  0,  1,  1, 27, 76,\n",
              "       75,  1, 56, 74,  1, 75, 63, 60,  1, 73, 64, 71, 60, 73,  1, 74, 63,\n",
              "       70, 76, 67, 59,  1, 57, 80,  1, 75, 64, 68, 60,  1, 59, 60, 58, 60,\n",
              "       56, 74, 60,  8,  0,  1,  1, 33, 64, 74,  1, 75, 60, 69, 59, 60, 73,\n",
              "        1, 63, 60, 64, 73,  1, 68, 64, 62, 63, 75,  1, 57, 60, 56, 73,  1,\n",
              "       63, 64, 74,  1, 68, 60, 68, 70, 73, 80, 21,  0,  1,  1, 27, 76, 75,\n",
              "        1, 75, 63, 70, 76,  1, 58, 70, 69, 75, 73, 56, 58, 75, 60, 59,  1,\n",
              "       75, 70,  1, 75, 63, 64, 69, 60,  1, 70, 78, 69,  1, 57, 73, 64, 62,\n",
              "       63, 75,  1, 60, 80, 60, 74,  8,  0,  1,  1, 31, 60, 60, 59,  5, 74,\n",
              "       75,  1, 75, 63, 80,  1, 67, 64, 62, 63, 75,  5, 74,  1, 61, 67, 56,\n",
              "       68, 60,  1, 78, 64, 75, 63,  1, 74, 60, 67, 61,  9, 74, 76, 57, 74,\n",
              "       75, 56, 69, 75, 64, 56, 67,  1, 61, 76, 60, 67,  8,  0,  1,  1, 38,\n",
              "       56, 66, 64, 69, 62,  1, 56,  1, 61, 56, 68, 64, 69, 60,  1, 78, 63,\n",
              "       60, 73, 60,  1, 56, 57, 76, 69, 59, 56, 69, 58, 60,  1, 67, 64, 60,\n",
              "       74,  8,  0,  1,  1, 45, 63, 80,  1, 74, 60, 67, 61,  1, 75, 63, 80,\n",
              "        1, 61, 70, 60,  8,  1, 75, 70,  1, 75, 63, 80,  1, 74, 78, 60, 60,\n",
              "       75,  1, 74, 60, 67, 61,  1, 75, 70, 70,  1, 58, 73, 76, 60, 67, 21,\n",
              "        0,  1,  1, 45, 63, 70, 76,  1, 75, 63, 56, 75,  1, 56, 73, 75,  1,\n",
              "       69, 70, 78,  1, 75, 63, 60,  1, 78, 70, 73, 67, 59,  5, 74,  1, 61,\n",
              "       73, 60, 74, 63,  1, 70, 73, 69, 56, 68, 60, 69, 75,  8,  0,  1,  1,\n",
              "       26, 69, 59,  1, 70, 69, 67, 80,  1, 63, 60, 73, 56, 67, 59,  1, 75,\n",
              "       70,  1, 75, 63, 60,  1, 62, 56, 76, 59, 80,  1, 74, 71, 73, 64, 69,\n",
              "       62,  8,  0,  1,  1, 48, 64, 75, 63, 64, 69,  1, 75, 63, 64, 69, 60,\n",
              "        1, 70, 78, 69,  1, 57, 76])"
            ]
          },
          "metadata": {},
          "execution_count": 14
        }
      ]
    },
    {
      "cell_type": "markdown",
      "source": [
        "## Step 3: Creating Batches\n",
        "\n",
        "Overall what we are trying to achieve is to have the model predict the next highest probability character given a historical sequence of characters. Its up to us (the user) to choose how long that historic sequence. Too short a sequence and we don't have enough information (e.g. given the letter \"a\" , what is the next character) , too long a sequence and training will take too long and most likely overfit to sequence characters that are irrelevant to characters farther out. While there is no correct sequence length choice, you should consider the text itself, how long normal phrases are in it, and a reasonable idea of what characters/words are relevant to each other."
      ],
      "metadata": {
        "id": "Db7CS09ld-n8"
      }
    },
    {
      "cell_type": "code",
      "source": [
        "print(text[:500])"
      ],
      "metadata": {
        "colab": {
          "base_uri": "https://localhost:8080/"
        },
        "id": "fCXFeSiTv39j",
        "outputId": "bfc86a25-a439-493c-f920-1953e10128fa"
      },
      "execution_count": 15,
      "outputs": [
        {
          "output_type": "stream",
          "name": "stdout",
          "text": [
            "\n",
            "                     1\n",
            "  From fairest creatures we desire increase,\n",
            "  That thereby beauty's rose might never die,\n",
            "  But as the riper should by time decease,\n",
            "  His tender heir might bear his memory:\n",
            "  But thou contracted to thine own bright eyes,\n",
            "  Feed'st thy light's flame with self-substantial fuel,\n",
            "  Making a famine where abundance lies,\n",
            "  Thy self thy foe, to thy sweet self too cruel:\n",
            "  Thou that art now the world's fresh ornament,\n",
            "  And only herald to the gaudy spring,\n",
            "  Within thine own bu\n"
          ]
        }
      ]
    },
    {
      "cell_type": "code",
      "source": [
        "line = \"From fairest creatures we desire increase\"\n",
        "len(line)"
      ],
      "metadata": {
        "colab": {
          "base_uri": "https://localhost:8080/"
        },
        "id": "IMuQ1Q_gv591",
        "outputId": "9bf146fc-7312-4819-9e9c-3b14854bd0f0"
      },
      "execution_count": 16,
      "outputs": [
        {
          "output_type": "execute_result",
          "data": {
            "text/plain": [
              "41"
            ]
          },
          "metadata": {},
          "execution_count": 16
        }
      ]
    },
    {
      "cell_type": "code",
      "source": [
        "part_stanza = \"\"\"From fairest creatures we desire increase,\n",
        "  That thereby beauty's rose might never die,\n",
        "  But as the riper should by time decease,\"\"\"\n",
        "len(part_stanza)"
      ],
      "metadata": {
        "colab": {
          "base_uri": "https://localhost:8080/"
        },
        "id": "auCUL3lSv-ZX",
        "outputId": "c30211bb-58e7-4dda-9912-cf018bcc8889"
      },
      "execution_count": 17,
      "outputs": [
        {
          "output_type": "execute_result",
          "data": {
            "text/plain": [
              "131"
            ]
          },
          "metadata": {},
          "execution_count": 17
        }
      ]
    },
    {
      "cell_type": "markdown",
      "source": [
        "### Training Sequences\n",
        "\n",
        "The actual text data will be the text sequence shifted one character forward. For example:\n",
        "\n",
        "Sequence In: \"Hello my nam\"\n",
        "Sequence Out: \"ello my name\"\n",
        "\n",
        "\n",
        "We can use the `tf.data.Dataset.from_tensor_slices` function to convert a text vector into a stream of character indices."
      ],
      "metadata": {
        "id": "1zZpi71NeT9v"
      }
    },
    {
      "cell_type": "code",
      "source": [
        "seq_len = 120\n",
        "total_num_seq = len(text)//(seq_len+1)\n",
        "total_num_seq"
      ],
      "metadata": {
        "colab": {
          "base_uri": "https://localhost:8080/"
        },
        "id": "c-fCqXAtwPyP",
        "outputId": "cdd6c441-b015-4b2c-a0d8-5da9ad6ce020"
      },
      "execution_count": 18,
      "outputs": [
        {
          "output_type": "execute_result",
          "data": {
            "text/plain": [
              "45005"
            ]
          },
          "metadata": {},
          "execution_count": 18
        }
      ]
    },
    {
      "cell_type": "code",
      "source": [
        "# Create Training Sequences\n",
        "char_dataset = tf.data.Dataset.from_tensor_slices(encoded_text)\n",
        "\n",
        "for i in char_dataset.take(500):\n",
        "     print(ind_to_char[i.numpy()])"
      ],
      "metadata": {
        "colab": {
          "base_uri": "https://localhost:8080/"
        },
        "id": "PoYrn_cRwYXR",
        "outputId": "7973728f-1663-47b3-fb02-72e60e18a9eb"
      },
      "execution_count": 19,
      "outputs": [
        {
          "output_type": "stream",
          "name": "stdout",
          "text": [
            "\n",
            "\n",
            " \n",
            " \n",
            " \n",
            " \n",
            " \n",
            " \n",
            " \n",
            " \n",
            " \n",
            " \n",
            " \n",
            " \n",
            " \n",
            " \n",
            " \n",
            " \n",
            " \n",
            " \n",
            " \n",
            " \n",
            " \n",
            "1\n",
            "\n",
            "\n",
            " \n",
            " \n",
            "F\n",
            "r\n",
            "o\n",
            "m\n",
            " \n",
            "f\n",
            "a\n",
            "i\n",
            "r\n",
            "e\n",
            "s\n",
            "t\n",
            " \n",
            "c\n",
            "r\n",
            "e\n",
            "a\n",
            "t\n",
            "u\n",
            "r\n",
            "e\n",
            "s\n",
            " \n",
            "w\n",
            "e\n",
            " \n",
            "d\n",
            "e\n",
            "s\n",
            "i\n",
            "r\n",
            "e\n",
            " \n",
            "i\n",
            "n\n",
            "c\n",
            "r\n",
            "e\n",
            "a\n",
            "s\n",
            "e\n",
            ",\n",
            "\n",
            "\n",
            " \n",
            " \n",
            "T\n",
            "h\n",
            "a\n",
            "t\n",
            " \n",
            "t\n",
            "h\n",
            "e\n",
            "r\n",
            "e\n",
            "b\n",
            "y\n",
            " \n",
            "b\n",
            "e\n",
            "a\n",
            "u\n",
            "t\n",
            "y\n",
            "'\n",
            "s\n",
            " \n",
            "r\n",
            "o\n",
            "s\n",
            "e\n",
            " \n",
            "m\n",
            "i\n",
            "g\n",
            "h\n",
            "t\n",
            " \n",
            "n\n",
            "e\n",
            "v\n",
            "e\n",
            "r\n",
            " \n",
            "d\n",
            "i\n",
            "e\n",
            ",\n",
            "\n",
            "\n",
            " \n",
            " \n",
            "B\n",
            "u\n",
            "t\n",
            " \n",
            "a\n",
            "s\n",
            " \n",
            "t\n",
            "h\n",
            "e\n",
            " \n",
            "r\n",
            "i\n",
            "p\n",
            "e\n",
            "r\n",
            " \n",
            "s\n",
            "h\n",
            "o\n",
            "u\n",
            "l\n",
            "d\n",
            " \n",
            "b\n",
            "y\n",
            " \n",
            "t\n",
            "i\n",
            "m\n",
            "e\n",
            " \n",
            "d\n",
            "e\n",
            "c\n",
            "e\n",
            "a\n",
            "s\n",
            "e\n",
            ",\n",
            "\n",
            "\n",
            " \n",
            " \n",
            "H\n",
            "i\n",
            "s\n",
            " \n",
            "t\n",
            "e\n",
            "n\n",
            "d\n",
            "e\n",
            "r\n",
            " \n",
            "h\n",
            "e\n",
            "i\n",
            "r\n",
            " \n",
            "m\n",
            "i\n",
            "g\n",
            "h\n",
            "t\n",
            " \n",
            "b\n",
            "e\n",
            "a\n",
            "r\n",
            " \n",
            "h\n",
            "i\n",
            "s\n",
            " \n",
            "m\n",
            "e\n",
            "m\n",
            "o\n",
            "r\n",
            "y\n",
            ":\n",
            "\n",
            "\n",
            " \n",
            " \n",
            "B\n",
            "u\n",
            "t\n",
            " \n",
            "t\n",
            "h\n",
            "o\n",
            "u\n",
            " \n",
            "c\n",
            "o\n",
            "n\n",
            "t\n",
            "r\n",
            "a\n",
            "c\n",
            "t\n",
            "e\n",
            "d\n",
            " \n",
            "t\n",
            "o\n",
            " \n",
            "t\n",
            "h\n",
            "i\n",
            "n\n",
            "e\n",
            " \n",
            "o\n",
            "w\n",
            "n\n",
            " \n",
            "b\n",
            "r\n",
            "i\n",
            "g\n",
            "h\n",
            "t\n",
            " \n",
            "e\n",
            "y\n",
            "e\n",
            "s\n",
            ",\n",
            "\n",
            "\n",
            " \n",
            " \n",
            "F\n",
            "e\n",
            "e\n",
            "d\n",
            "'\n",
            "s\n",
            "t\n",
            " \n",
            "t\n",
            "h\n",
            "y\n",
            " \n",
            "l\n",
            "i\n",
            "g\n",
            "h\n",
            "t\n",
            "'\n",
            "s\n",
            " \n",
            "f\n",
            "l\n",
            "a\n",
            "m\n",
            "e\n",
            " \n",
            "w\n",
            "i\n",
            "t\n",
            "h\n",
            " \n",
            "s\n",
            "e\n",
            "l\n",
            "f\n",
            "-\n",
            "s\n",
            "u\n",
            "b\n",
            "s\n",
            "t\n",
            "a\n",
            "n\n",
            "t\n",
            "i\n",
            "a\n",
            "l\n",
            " \n",
            "f\n",
            "u\n",
            "e\n",
            "l\n",
            ",\n",
            "\n",
            "\n",
            " \n",
            " \n",
            "M\n",
            "a\n",
            "k\n",
            "i\n",
            "n\n",
            "g\n",
            " \n",
            "a\n",
            " \n",
            "f\n",
            "a\n",
            "m\n",
            "i\n",
            "n\n",
            "e\n",
            " \n",
            "w\n",
            "h\n",
            "e\n",
            "r\n",
            "e\n",
            " \n",
            "a\n",
            "b\n",
            "u\n",
            "n\n",
            "d\n",
            "a\n",
            "n\n",
            "c\n",
            "e\n",
            " \n",
            "l\n",
            "i\n",
            "e\n",
            "s\n",
            ",\n",
            "\n",
            "\n",
            " \n",
            " \n",
            "T\n",
            "h\n",
            "y\n",
            " \n",
            "s\n",
            "e\n",
            "l\n",
            "f\n",
            " \n",
            "t\n",
            "h\n",
            "y\n",
            " \n",
            "f\n",
            "o\n",
            "e\n",
            ",\n",
            " \n",
            "t\n",
            "o\n",
            " \n",
            "t\n",
            "h\n",
            "y\n",
            " \n",
            "s\n",
            "w\n",
            "e\n",
            "e\n",
            "t\n",
            " \n",
            "s\n",
            "e\n",
            "l\n",
            "f\n",
            " \n",
            "t\n",
            "o\n",
            "o\n",
            " \n",
            "c\n",
            "r\n",
            "u\n",
            "e\n",
            "l\n",
            ":\n",
            "\n",
            "\n",
            " \n",
            " \n",
            "T\n",
            "h\n",
            "o\n",
            "u\n",
            " \n",
            "t\n",
            "h\n",
            "a\n",
            "t\n",
            " \n",
            "a\n",
            "r\n",
            "t\n",
            " \n",
            "n\n",
            "o\n",
            "w\n",
            " \n",
            "t\n",
            "h\n",
            "e\n",
            " \n",
            "w\n",
            "o\n",
            "r\n",
            "l\n",
            "d\n",
            "'\n",
            "s\n",
            " \n",
            "f\n",
            "r\n",
            "e\n",
            "s\n",
            "h\n",
            " \n",
            "o\n",
            "r\n",
            "n\n",
            "a\n",
            "m\n",
            "e\n",
            "n\n",
            "t\n",
            ",\n",
            "\n",
            "\n",
            " \n",
            " \n",
            "A\n",
            "n\n",
            "d\n",
            " \n",
            "o\n",
            "n\n",
            "l\n",
            "y\n",
            " \n",
            "h\n",
            "e\n",
            "r\n",
            "a\n",
            "l\n",
            "d\n",
            " \n",
            "t\n",
            "o\n",
            " \n",
            "t\n",
            "h\n",
            "e\n",
            " \n",
            "g\n",
            "a\n",
            "u\n",
            "d\n",
            "y\n",
            " \n",
            "s\n",
            "p\n",
            "r\n",
            "i\n",
            "n\n",
            "g\n",
            ",\n",
            "\n",
            "\n",
            " \n",
            " \n",
            "W\n",
            "i\n",
            "t\n",
            "h\n",
            "i\n",
            "n\n",
            " \n",
            "t\n",
            "h\n",
            "i\n",
            "n\n",
            "e\n",
            " \n",
            "o\n",
            "w\n",
            "n\n",
            " \n",
            "b\n",
            "u\n"
          ]
        }
      ]
    },
    {
      "cell_type": "markdown",
      "source": [
        "The **batch** method converts these individual character calls into sequences we can feed in as a batch. We use seq_len+1 because of zero indexing. Here is what drop_remainder means:\n",
        "\n",
        "drop_remainder: (Optional.) A `tf.bool` scalar `tf.Tensor`, representing\n",
        "    whether the last batch should be dropped in the case it has fewer than\n",
        "    `batch_size` elements; the default behavior is not to drop the smaller\n",
        "    batch."
      ],
      "metadata": {
        "id": "fMmo-qUeehqd"
      }
    },
    {
      "cell_type": "code",
      "source": [
        "sequences = char_dataset.batch(seq_len+1, drop_remainder=True)"
      ],
      "metadata": {
        "id": "CflnIoqLw3XQ"
      },
      "execution_count": 20,
      "outputs": []
    },
    {
      "cell_type": "markdown",
      "source": [
        "Now that we have our sequences, we will perform the following steps for each one to create our target text sequences:\n",
        "\n",
        "1. Grab the input text sequence\n",
        "2. Assign the target text sequence as the input text sequence shifted by one step forward\n",
        "3. Group them together as a tuple"
      ],
      "metadata": {
        "id": "wxU7dBpbelCP"
      }
    },
    {
      "cell_type": "code",
      "source": [
        "def create_seq_targets(seq):\n",
        "    input_txt = seq[:-1]   # Hello my nam\n",
        "    target_txt = seq[1:]   # ello my name\n",
        "    return input_txt, target_txt"
      ],
      "metadata": {
        "id": "Q-pLvo9nxKsf"
      },
      "execution_count": 21,
      "outputs": []
    },
    {
      "cell_type": "code",
      "source": [
        "dataset = sequences.map(create_seq_targets)"
      ],
      "metadata": {
        "id": "8dNdYsSdxjvF"
      },
      "execution_count": 22,
      "outputs": []
    },
    {
      "cell_type": "code",
      "source": [
        "for input_txt, target_txt in  dataset.take(1):\n",
        "    print(input_txt.numpy())\n",
        "    print(''.join(ind_to_char[input_txt.numpy()]))\n",
        "    print('\\n')\n",
        "    print(target_txt.numpy())\n",
        "    # There is an extra whitespace!\n",
        "    print(''.join(ind_to_char[target_txt.numpy()]))"
      ],
      "metadata": {
        "colab": {
          "base_uri": "https://localhost:8080/"
        },
        "id": "9oWkm5texlUx",
        "outputId": "5191cbe6-91f6-4c3f-a88d-01148b6bd7f7"
      },
      "execution_count": 23,
      "outputs": [
        {
          "output_type": "stream",
          "name": "stdout",
          "text": [
            "[ 0  1  1  1  1  1  1  1  1  1  1  1  1  1  1  1  1  1  1  1  1  1 12  0\n",
            "  1  1 31 73 70 68  1 61 56 64 73 60 74 75  1 58 73 60 56 75 76 73 60 74\n",
            "  1 78 60  1 59 60 74 64 73 60  1 64 69 58 73 60 56 74 60  8  0  1  1 45\n",
            " 63 56 75  1 75 63 60 73 60 57 80  1 57 60 56 76 75 80  5 74  1 73 70 74\n",
            " 60  1 68 64 62 63 75  1 69 60 77 60 73  1 59 64 60  8  0  1  1 27 76 75]\n",
            "\n",
            "                     1\n",
            "  From fairest creatures we desire increase,\n",
            "  That thereby beauty's rose might never die,\n",
            "  But\n",
            "\n",
            "\n",
            "[ 1  1  1  1  1  1  1  1  1  1  1  1  1  1  1  1  1  1  1  1  1 12  0  1\n",
            "  1 31 73 70 68  1 61 56 64 73 60 74 75  1 58 73 60 56 75 76 73 60 74  1\n",
            " 78 60  1 59 60 74 64 73 60  1 64 69 58 73 60 56 74 60  8  0  1  1 45 63\n",
            " 56 75  1 75 63 60 73 60 57 80  1 57 60 56 76 75 80  5 74  1 73 70 74 60\n",
            "  1 68 64 62 63 75  1 69 60 77 60 73  1 59 64 60  8  0  1  1 27 76 75  1]\n",
            "                     1\n",
            "  From fairest creatures we desire increase,\n",
            "  That thereby beauty's rose might never die,\n",
            "  But \n"
          ]
        }
      ]
    },
    {
      "cell_type": "markdown",
      "source": [
        "### Generating training batches\n",
        "\n",
        "Now that we have the actual sequences, we will create the batches, we want to shuffle these sequences into a random order, so the model doesn't overfit to any section of the text, but can instead generate characters given any seed text."
      ],
      "metadata": {
        "id": "qftJWnDleoUh"
      }
    },
    {
      "cell_type": "code",
      "source": [
        "# Batch size\n",
        "batch_size = 128\n",
        "\n",
        "# Buffer size to shuffle the dataset so it doesn't attempt to shuffle\n",
        "# the entire sequence in memory. Instead, it maintains a buffer in which it shuffles elements\n",
        "buffer_size = 10000\n",
        "\n",
        "dataset = dataset.shuffle(buffer_size).batch(batch_size, drop_remainder=True)"
      ],
      "metadata": {
        "id": "51eHQDqYxy7v"
      },
      "execution_count": 24,
      "outputs": []
    },
    {
      "cell_type": "code",
      "source": [
        "dataset"
      ],
      "metadata": {
        "colab": {
          "base_uri": "https://localhost:8080/"
        },
        "id": "L-iNFsOCyJKo",
        "outputId": "9670aada-fbed-45ab-9392-86dd7f9077e4"
      },
      "execution_count": 25,
      "outputs": [
        {
          "output_type": "execute_result",
          "data": {
            "text/plain": [
              "<BatchDataset element_spec=(TensorSpec(shape=(128, 120), dtype=tf.int64, name=None), TensorSpec(shape=(128, 120), dtype=tf.int64, name=None))>"
            ]
          },
          "metadata": {},
          "execution_count": 25
        }
      ]
    },
    {
      "cell_type": "markdown",
      "source": [
        "## Step 4 Creating the model\n",
        "We will use an LSTM based model with a few extra features, including an embedding layer to start off with and **two** LSTM layers. We based this model architecture off the [DeepMoji](https://deepmoji.mit.edu/) and the original source code can be found [here](https://github.com/bfelbo/DeepMoji).\n",
        "\n",
        "The embedding layer will serve as the input layer, which essentially creates a lookup table that maps the numbers indices of each character to a vector with \"embedding dim\" number of dimensions. As you can imagine, the larger this embedding size, the more complex the training. This is similar to the idea behind word2vec, where words are mapped to some n-dimensional space. Embedding before feeding straight into the LSTM usually leads to more realisitic results."
      ],
      "metadata": {
        "id": "pDHFILAiesss"
      }
    },
    {
      "cell_type": "code",
      "source": [
        "# Length of the vocabulary in chars\n",
        "vocab_size = len(vocab)\n",
        "\n",
        "# The embedding dimension\n",
        "embed_dim = 64\n",
        "\n",
        "# Number of RNN units\n",
        "rnn_neurons = 1026"
      ],
      "metadata": {
        "id": "rLPmsajZyRoE"
      },
      "execution_count": 26,
      "outputs": []
    },
    {
      "cell_type": "markdown",
      "source": [
        "### Setting up Loss Function\n",
        "\n",
        "For our loss we will use sparse categorical crossentropy, which we can import from Keras. We will also set this as logits=True"
      ],
      "metadata": {
        "id": "ptSLNqFSe1Ql"
      }
    },
    {
      "cell_type": "code",
      "source": [
        "from tensorflow.keras.models import Sequential\n",
        "from tensorflow.keras.layers import LSTM,Dense,Embedding,Dropout,GRU\n",
        "\n",
        "from tensorflow.keras.losses import sparse_categorical_crossentropy\n"
      ],
      "metadata": {
        "id": "lkrJdwb2yro1"
      },
      "execution_count": 27,
      "outputs": []
    },
    {
      "cell_type": "code",
      "source": [
        "help(sparse_categorical_crossentropy)"
      ],
      "metadata": {
        "colab": {
          "base_uri": "https://localhost:8080/"
        },
        "id": "-ZBvWt8SyvVX",
        "outputId": "fd755d17-3a40-42c7-dde1-4240753c0baf"
      },
      "execution_count": 28,
      "outputs": [
        {
          "output_type": "stream",
          "name": "stdout",
          "text": [
            "Help on function sparse_categorical_crossentropy in module keras.losses:\n",
            "\n",
            "sparse_categorical_crossentropy(y_true, y_pred, from_logits=False, axis=-1)\n",
            "    Computes the sparse categorical crossentropy loss.\n",
            "    \n",
            "    Standalone usage:\n",
            "    \n",
            "    >>> y_true = [1, 2]\n",
            "    >>> y_pred = [[0.05, 0.95, 0], [0.1, 0.8, 0.1]]\n",
            "    >>> loss = tf.keras.losses.sparse_categorical_crossentropy(y_true, y_pred)\n",
            "    >>> assert loss.shape == (2,)\n",
            "    >>> loss.numpy()\n",
            "    array([0.0513, 2.303], dtype=float32)\n",
            "    \n",
            "    Args:\n",
            "      y_true: Ground truth values.\n",
            "      y_pred: The predicted values.\n",
            "      from_logits: Whether `y_pred` is expected to be a logits tensor. By default,\n",
            "        we assume that `y_pred` encodes a probability distribution.\n",
            "      axis: Defaults to -1. The dimension along which the entropy is\n",
            "        computed.\n",
            "    \n",
            "    Returns:\n",
            "      Sparse categorical crossentropy loss value.\n",
            "\n"
          ]
        }
      ]
    },
    {
      "cell_type": "code",
      "source": [
        "def sparse_cat_loss(y_true,y_pred):\n",
        "  return sparse_categorical_crossentropy(y_true, y_pred, from_logits=True)"
      ],
      "metadata": {
        "id": "GDwUAx08y6DK"
      },
      "execution_count": 29,
      "outputs": []
    },
    {
      "cell_type": "code",
      "source": [
        "def create_model(vocab_size, embed_dim, rnn_neurons, batch_size):\n",
        "    model = Sequential()\n",
        "    model.add(Embedding(vocab_size, embed_dim,batch_input_shape=[batch_size, None]))\n",
        "    model.add(GRU(rnn_neurons,return_sequences=True,stateful=True,recurrent_initializer='glorot_uniform'))\n",
        "    # Final Dense Layer to Predict\n",
        "    model.add(Dense(vocab_size))\n",
        "    model.compile(optimizer='adam', loss=sparse_cat_loss) \n",
        "    return model"
      ],
      "metadata": {
        "id": "utmAuBmEzAWx"
      },
      "execution_count": 30,
      "outputs": []
    },
    {
      "cell_type": "code",
      "source": [
        "model = create_model(\n",
        "  vocab_size = vocab_size,\n",
        "  embed_dim=embed_dim,\n",
        "  rnn_neurons=rnn_neurons,\n",
        "  batch_size=batch_size)"
      ],
      "metadata": {
        "id": "w_OEEES1zCqP"
      },
      "execution_count": 31,
      "outputs": []
    },
    {
      "cell_type": "code",
      "source": [
        "model.summary()"
      ],
      "metadata": {
        "colab": {
          "base_uri": "https://localhost:8080/"
        },
        "id": "M_5E1u5rzF52",
        "outputId": "94cfa953-da53-4c27-f4ac-bbb7d991c2f9"
      },
      "execution_count": 32,
      "outputs": [
        {
          "output_type": "stream",
          "name": "stdout",
          "text": [
            "Model: \"sequential\"\n",
            "_________________________________________________________________\n",
            " Layer (type)                Output Shape              Param #   \n",
            "=================================================================\n",
            " embedding (Embedding)       (128, None, 64)           5376      \n",
            "                                                                 \n",
            " gru (GRU)                   (128, None, 1026)         3361176   \n",
            "                                                                 \n",
            " dense (Dense)               (128, None, 84)           86268     \n",
            "                                                                 \n",
            "=================================================================\n",
            "Total params: 3,452,820\n",
            "Trainable params: 3,452,820\n",
            "Non-trainable params: 0\n",
            "_________________________________________________________________\n"
          ]
        }
      ]
    },
    {
      "cell_type": "markdown",
      "source": [
        "## Step 5: Training the model\n",
        "\n",
        "Let's make sure everything is ok with our model before we spend too much time training! Let's pass in a batch to confirm the model currently predicts random characters without any training.\n"
      ],
      "metadata": {
        "id": "GHRBqkHbe5sN"
      }
    },
    {
      "cell_type": "code",
      "source": [
        "for input_example_batch, target_example_batch in dataset.take(1):\n",
        "\n",
        "  # Predict off some random batch\n",
        "  example_batch_predictions = model(input_example_batch)\n",
        "\n",
        "  # Display the dimensions of the predictions\n",
        "  print(example_batch_predictions.shape, \" <=== (batch_size, sequence_length, vocab_size)\")"
      ],
      "metadata": {
        "colab": {
          "base_uri": "https://localhost:8080/"
        },
        "id": "N-PR0pvG7IS9",
        "outputId": "e9db7c1d-c6f8-4369-c108-e160f8c4608e"
      },
      "execution_count": 33,
      "outputs": [
        {
          "output_type": "stream",
          "name": "stdout",
          "text": [
            "(128, 120, 84)  <=== (batch_size, sequence_length, vocab_size)\n"
          ]
        }
      ]
    },
    {
      "cell_type": "code",
      "source": [
        "example_batch_predictions\n"
      ],
      "metadata": {
        "colab": {
          "base_uri": "https://localhost:8080/"
        },
        "id": "FfdTccyQ7Z-i",
        "outputId": "a298b7c3-33d6-4261-aac3-ab63e978fff3"
      },
      "execution_count": 34,
      "outputs": [
        {
          "output_type": "execute_result",
          "data": {
            "text/plain": [
              "<tf.Tensor: shape=(128, 120, 84), dtype=float32, numpy=\n",
              "array([[[ 5.96854603e-03, -3.98351811e-03,  3.33258254e-03, ...,\n",
              "          5.68780408e-04, -4.83264122e-03,  3.40690068e-03],\n",
              "        [ 8.19703937e-03, -1.56554475e-03,  4.85720113e-03, ...,\n",
              "          1.90357619e-03, -6.38292078e-03, -6.64110703e-04],\n",
              "        [ 4.67165979e-03, -5.20282309e-04,  2.99349474e-03, ...,\n",
              "         -2.51319422e-03, -4.47349204e-03, -3.80685576e-03],\n",
              "        ...,\n",
              "        [ 1.71475438e-03,  8.54285783e-04,  4.05613333e-03, ...,\n",
              "         -6.12901815e-04,  5.92924887e-03,  1.89123198e-03],\n",
              "        [ 1.59045111e-03,  4.56382474e-03,  4.73693805e-03, ...,\n",
              "          6.24789251e-03, -1.66440662e-03,  6.94477058e-04],\n",
              "        [-1.97734262e-04, -4.84716438e-04,  2.10058395e-04, ...,\n",
              "          6.49946230e-03, -5.21767070e-04,  7.37275463e-03]],\n",
              "\n",
              "       [[ 4.39537829e-03, -9.82682966e-03,  9.01790452e-04, ...,\n",
              "         -2.71110679e-03,  5.14016766e-03,  6.46444736e-04],\n",
              "        [ 7.13072065e-03, -1.53115094e-02,  9.12983262e-04, ...,\n",
              "         -5.11401147e-03,  6.44070329e-03,  9.28382797e-04],\n",
              "        [-3.57256475e-04, -6.28306251e-03,  5.47859771e-03, ...,\n",
              "         -6.63917698e-03, -1.21794490e-03,  2.16388842e-03],\n",
              "        ...,\n",
              "        [-3.98298987e-04, -8.59285239e-03,  1.15673617e-03, ...,\n",
              "         -9.73653980e-03, -3.00092623e-03, -3.02173709e-03],\n",
              "        [ 6.14383956e-04, -1.18097821e-02,  7.87013676e-03, ...,\n",
              "         -1.13182068e-02, -7.63677340e-03, -7.05974549e-03],\n",
              "        [ 3.40395374e-03, -4.24411194e-03,  8.70079640e-03, ...,\n",
              "         -6.93421718e-03,  1.18039083e-03, -6.99816225e-03]],\n",
              "\n",
              "       [[ 4.03656950e-03,  3.17218830e-03, -1.01712318e-02, ...,\n",
              "          3.45586520e-03,  2.84314342e-03,  2.50321650e-03],\n",
              "        [-7.93110020e-03,  2.53501325e-03, -1.83599896e-03, ...,\n",
              "          2.29968387e-03,  1.01190025e-03,  4.08863556e-03],\n",
              "        [-8.89234012e-04,  4.47227620e-03, -1.04200365e-02, ...,\n",
              "          4.50917846e-03,  2.81364913e-03,  5.23253903e-03],\n",
              "        ...,\n",
              "        [ 3.51521699e-03,  3.65574169e-03, -1.66377854e-02, ...,\n",
              "          8.03782605e-03,  5.87002141e-04,  5.73180011e-03],\n",
              "        [-5.20358933e-03, -3.49395536e-03, -1.32111367e-02, ...,\n",
              "          2.88594724e-03, -1.12658861e-04,  1.26571916e-02],\n",
              "        [-7.51394778e-04, -1.16532873e-02, -2.68689194e-03, ...,\n",
              "         -1.18579320e-03,  3.15116881e-03,  6.60836231e-03]],\n",
              "\n",
              "       ...,\n",
              "\n",
              "       [[ 4.03656950e-03,  3.17218830e-03, -1.01712318e-02, ...,\n",
              "          3.45586520e-03,  2.84314342e-03,  2.50321650e-03],\n",
              "        [-2.77042738e-03,  9.01175942e-03, -2.25093053e-03, ...,\n",
              "          3.26869776e-04, -5.81089174e-03, -8.66934471e-03],\n",
              "        [ 3.88058298e-03,  6.20125839e-03,  7.78971415e-04, ...,\n",
              "          3.25939339e-03, -1.11244724e-03,  1.57863135e-04],\n",
              "        ...,\n",
              "        [ 3.66955035e-04, -9.27210320e-03,  3.56805651e-03, ...,\n",
              "         -1.34018878e-03,  2.54950975e-03,  2.10983469e-03],\n",
              "        [ 3.55320401e-03, -2.68933456e-03, -8.52653850e-03, ...,\n",
              "          2.04857718e-03,  2.19871639e-03,  4.33116267e-03],\n",
              "        [ 6.87950011e-03, -7.33738299e-04, -2.03662901e-03, ...,\n",
              "          4.84087737e-03,  1.86997978e-03,  6.50868798e-03]],\n",
              "\n",
              "       [[ 2.39144126e-03,  4.59069014e-03,  2.66909343e-03, ...,\n",
              "         -1.94295659e-04,  1.30036136e-03,  9.51043738e-04],\n",
              "        [ 4.88833105e-03,  4.15443256e-03, -9.48200189e-03, ...,\n",
              "          3.21129523e-03,  4.28756373e-03,  3.53161013e-03],\n",
              "        [ 5.00868959e-03,  3.88362817e-03, -1.44178504e-02, ...,\n",
              "          5.47101442e-03,  3.64140538e-03,  4.87948768e-03],\n",
              "        ...,\n",
              "        [ 1.29859964e-03, -2.82140588e-03,  5.56200929e-03, ...,\n",
              "         -5.01746219e-03, -3.39774881e-03, -3.16625461e-04],\n",
              "        [ 5.16751839e-04, -7.34695699e-03,  1.00209974e-02, ...,\n",
              "         -5.62588545e-03, -6.95979735e-03, -5.31124463e-03],\n",
              "        [ 5.65012415e-05, -8.85954965e-03,  1.31277991e-02, ...,\n",
              "         -3.39645683e-03, -9.33312066e-03, -8.26484896e-03]],\n",
              "\n",
              "       [[ 1.08526973e-03,  6.06944261e-04,  2.96958536e-03, ...,\n",
              "         -1.64532266e-03,  5.64922206e-03, -1.57851493e-04],\n",
              "        [ 4.08842135e-03,  3.74357379e-03, -7.25703174e-03, ...,\n",
              "          2.82918615e-03,  5.18050604e-03,  2.98705697e-03],\n",
              "        [-7.13715283e-03, -7.99565483e-03, -6.99191401e-03, ...,\n",
              "         -5.67346811e-03,  5.54468296e-03, -3.41369165e-03],\n",
              "        ...,\n",
              "        [ 4.38002823e-03, -2.59193336e-03, -1.13191167e-02, ...,\n",
              "         -2.51038815e-03,  3.51766685e-05,  1.11162127e-03],\n",
              "        [ 5.02270460e-03, -3.25807207e-03, -7.18021707e-04, ...,\n",
              "         -5.74248563e-03, -7.70134665e-03, -3.91297415e-03],\n",
              "        [ 6.87255617e-03,  3.57699674e-03,  6.27610087e-03, ...,\n",
              "         -2.54947389e-03, -6.69133570e-03, -3.71008157e-03]]],\n",
              "      dtype=float32)>"
            ]
          },
          "metadata": {},
          "execution_count": 34
        }
      ]
    },
    {
      "cell_type": "code",
      "source": [
        "sampled_indices = tf.random.categorical(example_batch_predictions[0], num_samples=1)\n",
        "sampled_indices"
      ],
      "metadata": {
        "colab": {
          "base_uri": "https://localhost:8080/"
        },
        "id": "ANS_02DF7b63",
        "outputId": "52b70ffc-1962-4b4f-be19-6c181f6666d9"
      },
      "execution_count": 35,
      "outputs": [
        {
          "output_type": "execute_result",
          "data": {
            "text/plain": [
              "<tf.Tensor: shape=(120, 1), dtype=int64, numpy=\n",
              "array([[46],\n",
              "       [77],\n",
              "       [41],\n",
              "       [30],\n",
              "       [72],\n",
              "       [ 0],\n",
              "       [ 6],\n",
              "       [41],\n",
              "       [41],\n",
              "       [50],\n",
              "       [33],\n",
              "       [47],\n",
              "       [73],\n",
              "       [42],\n",
              "       [33],\n",
              "       [ 1],\n",
              "       [79],\n",
              "       [31],\n",
              "       [42],\n",
              "       [73],\n",
              "       [12],\n",
              "       [52],\n",
              "       [71],\n",
              "       [20],\n",
              "       [40],\n",
              "       [31],\n",
              "       [22],\n",
              "       [16],\n",
              "       [53],\n",
              "       [25],\n",
              "       [27],\n",
              "       [16],\n",
              "       [47],\n",
              "       [71],\n",
              "       [47],\n",
              "       [ 8],\n",
              "       [ 1],\n",
              "       [11],\n",
              "       [57],\n",
              "       [52],\n",
              "       [41],\n",
              "       [27],\n",
              "       [77],\n",
              "       [33],\n",
              "       [26],\n",
              "       [76],\n",
              "       [63],\n",
              "       [43],\n",
              "       [18],\n",
              "       [68],\n",
              "       [61],\n",
              "       [62],\n",
              "       [22],\n",
              "       [39],\n",
              "       [63],\n",
              "       [ 8],\n",
              "       [ 1],\n",
              "       [36],\n",
              "       [22],\n",
              "       [43],\n",
              "       [71],\n",
              "       [20],\n",
              "       [23],\n",
              "       [21],\n",
              "       [83],\n",
              "       [51],\n",
              "       [83],\n",
              "       [56],\n",
              "       [55],\n",
              "       [ 4],\n",
              "       [23],\n",
              "       [48],\n",
              "       [67],\n",
              "       [41],\n",
              "       [31],\n",
              "       [ 9],\n",
              "       [18],\n",
              "       [72],\n",
              "       [13],\n",
              "       [48],\n",
              "       [56],\n",
              "       [ 9],\n",
              "       [52],\n",
              "       [ 1],\n",
              "       [22],\n",
              "       [25],\n",
              "       [ 3],\n",
              "       [67],\n",
              "       [39],\n",
              "       [44],\n",
              "       [42],\n",
              "       [25],\n",
              "       [49],\n",
              "       [82],\n",
              "       [52],\n",
              "       [55],\n",
              "       [22],\n",
              "       [20],\n",
              "       [45],\n",
              "       [66],\n",
              "       [11],\n",
              "       [42],\n",
              "       [11],\n",
              "       [ 2],\n",
              "       [36],\n",
              "       [46],\n",
              "       [81],\n",
              "       [77],\n",
              "       [62],\n",
              "       [58],\n",
              "       [56],\n",
              "       [36],\n",
              "       [79],\n",
              "       [81],\n",
              "       [ 2],\n",
              "       [78],\n",
              "       [34],\n",
              "       [21],\n",
              "       [31],\n",
              "       [70]])>"
            ]
          },
          "metadata": {},
          "execution_count": 35
        }
      ]
    },
    {
      "cell_type": "code",
      "source": [
        "# Reformat to not be a lists of lists\n",
        "sampled_indices = tf.squeeze(sampled_indices,axis=-1).numpy()\n",
        "sampled_indices"
      ],
      "metadata": {
        "colab": {
          "base_uri": "https://localhost:8080/"
        },
        "id": "VjfYuAbm7gOh",
        "outputId": "d8bb05eb-1860-4077-f60e-e67016eb3ee6"
      },
      "execution_count": 36,
      "outputs": [
        {
          "output_type": "execute_result",
          "data": {
            "text/plain": [
              "array([46, 77, 41, 30, 72,  0,  6, 41, 41, 50, 33, 47, 73, 42, 33,  1, 79,\n",
              "       31, 42, 73, 12, 52, 71, 20, 40, 31, 22, 16, 53, 25, 27, 16, 47, 71,\n",
              "       47,  8,  1, 11, 57, 52, 41, 27, 77, 33, 26, 76, 63, 43, 18, 68, 61,\n",
              "       62, 22, 39, 63,  8,  1, 36, 22, 43, 71, 20, 23, 21, 83, 51, 83, 56,\n",
              "       55,  4, 23, 48, 67, 41, 31,  9, 18, 72, 13, 48, 56,  9, 52,  1, 22,\n",
              "       25,  3, 67, 39, 44, 42, 25, 49, 82, 52, 55, 22, 20, 45, 66, 11, 42,\n",
              "       11,  2, 36, 46, 81, 77, 62, 58, 56, 36, 79, 81,  2, 78, 34, 21, 31,\n",
              "       70])"
            ]
          },
          "metadata": {},
          "execution_count": 36
        }
      ]
    },
    {
      "cell_type": "code",
      "source": [
        "epochs = 30"
      ],
      "metadata": {
        "id": "Dk6NuPWx7veB"
      },
      "execution_count": 37,
      "outputs": []
    },
    {
      "cell_type": "code",
      "source": [
        "model.fit(dataset,epochs=epochs)"
      ],
      "metadata": {
        "colab": {
          "base_uri": "https://localhost:8080/"
        },
        "id": "bdJFJA4g7xAT",
        "outputId": "63d861a6-c3f1-415f-80e7-ab5dca1ba835"
      },
      "execution_count": 38,
      "outputs": [
        {
          "output_type": "stream",
          "name": "stdout",
          "text": [
            "Epoch 1/30\n",
            "351/351 [==============================] - 91s 247ms/step - loss: 2.5383\n",
            "Epoch 2/30\n",
            "351/351 [==============================] - 91s 253ms/step - loss: 1.7355\n",
            "Epoch 3/30\n",
            "351/351 [==============================] - 90s 250ms/step - loss: 1.4625\n",
            "Epoch 4/30\n",
            "351/351 [==============================] - 89s 249ms/step - loss: 1.3423\n",
            "Epoch 5/30\n",
            "351/351 [==============================] - 90s 252ms/step - loss: 1.2794\n",
            "Epoch 6/30\n",
            "351/351 [==============================] - 90s 250ms/step - loss: 1.2386\n",
            "Epoch 7/30\n",
            "351/351 [==============================] - 91s 252ms/step - loss: 1.2087\n",
            "Epoch 8/30\n",
            "351/351 [==============================] - 91s 252ms/step - loss: 1.1848\n",
            "Epoch 9/30\n",
            "351/351 [==============================] - 90s 252ms/step - loss: 1.1651\n",
            "Epoch 10/30\n",
            "351/351 [==============================] - 90s 249ms/step - loss: 1.1478\n",
            "Epoch 11/30\n",
            "351/351 [==============================] - 90s 252ms/step - loss: 1.1326\n",
            "Epoch 12/30\n",
            "351/351 [==============================] - 90s 251ms/step - loss: 1.1177\n",
            "Epoch 13/30\n",
            "351/351 [==============================] - 90s 250ms/step - loss: 1.1050\n",
            "Epoch 14/30\n",
            "351/351 [==============================] - 90s 251ms/step - loss: 1.0925\n",
            "Epoch 15/30\n",
            "351/351 [==============================] - 90s 252ms/step - loss: 1.0802\n",
            "Epoch 16/30\n",
            "351/351 [==============================] - 90s 250ms/step - loss: 1.0697\n",
            "Epoch 17/30\n",
            "351/351 [==============================] - 89s 247ms/step - loss: 1.0590\n",
            "Epoch 18/30\n",
            "351/351 [==============================] - 88s 247ms/step - loss: 1.0491\n",
            "Epoch 19/30\n",
            "351/351 [==============================] - 89s 248ms/step - loss: 1.0396\n",
            "Epoch 20/30\n",
            "351/351 [==============================] - 90s 250ms/step - loss: 1.0306\n",
            "Epoch 21/30\n",
            "351/351 [==============================] - 89s 248ms/step - loss: 1.0222\n",
            "Epoch 22/30\n",
            "351/351 [==============================] - 88s 246ms/step - loss: 1.0147\n",
            "Epoch 23/30\n",
            "351/351 [==============================] - 89s 248ms/step - loss: 1.0073\n",
            "Epoch 24/30\n",
            "351/351 [==============================] - 89s 248ms/step - loss: 1.0012\n",
            "Epoch 25/30\n",
            "351/351 [==============================] - 89s 248ms/step - loss: 0.9955\n",
            "Epoch 26/30\n",
            "351/351 [==============================] - 89s 249ms/step - loss: 0.9906\n",
            "Epoch 27/30\n",
            "351/351 [==============================] - 90s 249ms/step - loss: 0.9860\n",
            "Epoch 28/30\n",
            "351/351 [==============================] - 89s 246ms/step - loss: 0.9815\n",
            "Epoch 29/30\n",
            "351/351 [==============================] - 89s 247ms/step - loss: 0.9784\n",
            "Epoch 30/30\n",
            "351/351 [==============================] - 89s 248ms/step - loss: 0.9737\n"
          ]
        },
        {
          "output_type": "execute_result",
          "data": {
            "text/plain": [
              "<keras.callbacks.History at 0x7f58732a9d50>"
            ]
          },
          "metadata": {},
          "execution_count": 38
        }
      ]
    },
    {
      "cell_type": "markdown",
      "source": [
        "## Step 6: Generating text\n",
        "\n",
        "Currently our model only expects 128 sequences at a time. We can create a new model that only expects a batch_size=1. We can create a new model with this batch size, then load our saved models weights. Then call .build() on the model:"
      ],
      "metadata": {
        "id": "TRbOwnb_fDLh"
      }
    },
    {
      "cell_type": "markdown",
      "source": [
        "The training will take some time so I have already loaded this model to save some time"
      ],
      "metadata": {
        "id": "sTUBNk7d8BD3"
      }
    },
    {
      "cell_type": "code",
      "source": [
        "model.save('shakespeare_gen.h5') "
      ],
      "metadata": {
        "id": "DltxiloW8H8O"
      },
      "execution_count": 39,
      "outputs": []
    },
    {
      "cell_type": "code",
      "source": [
        "from tensorflow.keras.models import load_model"
      ],
      "metadata": {
        "id": "rmBnqYP08TBr"
      },
      "execution_count": 40,
      "outputs": []
    },
    {
      "cell_type": "code",
      "source": [
        "model = create_model(vocab_size, embed_dim, rnn_neurons, batch_size=1)\n",
        "model.load_weights('shakespeare_gen.h5')\n",
        "model.build(tf.TensorShape([1, None]))\n"
      ],
      "metadata": {
        "id": "2NIj0CQ98ZpW"
      },
      "execution_count": 41,
      "outputs": []
    },
    {
      "cell_type": "code",
      "source": [
        "model.summary()"
      ],
      "metadata": {
        "colab": {
          "base_uri": "https://localhost:8080/"
        },
        "id": "O5ZzB1hP8hyn",
        "outputId": "5e6d0562-d964-42c9-fa9d-29b212cc009a"
      },
      "execution_count": 42,
      "outputs": [
        {
          "output_type": "stream",
          "name": "stdout",
          "text": [
            "Model: \"sequential_1\"\n",
            "_________________________________________________________________\n",
            " Layer (type)                Output Shape              Param #   \n",
            "=================================================================\n",
            " embedding_1 (Embedding)     (1, None, 64)             5376      \n",
            "                                                                 \n",
            " gru_1 (GRU)                 (1, None, 1026)           3361176   \n",
            "                                                                 \n",
            " dense_1 (Dense)             (1, None, 84)             86268     \n",
            "                                                                 \n",
            "=================================================================\n",
            "Total params: 3,452,820\n",
            "Trainable params: 3,452,820\n",
            "Non-trainable params: 0\n",
            "_________________________________________________________________\n"
          ]
        }
      ]
    },
    {
      "cell_type": "code",
      "source": [
        "def generate_text(model, start_seed,gen_size=100,temp=1.0):\n",
        "  '''\n",
        "  model: Trained Model to Generate Text\n",
        "  start_seed: Intial Seed text in string form\n",
        "  gen_size: Number of characters to generate\n",
        "\n",
        "  Basic idea behind this function is to take in some seed text, format it so\n",
        "  that it is in the correct shape for our network, then loop the sequence as\n",
        "  we keep adding our own predicted characters. Similar to our work in the RNN\n",
        "  time series problems.\n",
        "  '''\n",
        "\n",
        "  # Number of characters to generate\n",
        "  num_generate = gen_size\n",
        "\n",
        "  # Vecotrizing starting seed text\n",
        "  input_eval = [char_to_ind[s] for s in start_seed]\n",
        "\n",
        "  # Expand to match batch format shape\n",
        "  input_eval = tf.expand_dims(input_eval, 0)\n",
        "\n",
        "  # Empty list to hold resulting generated text\n",
        "  text_generated = []\n",
        "\n",
        "  # Temperature effects randomness in our resulting text\n",
        "  # The term is derived from entropy/thermodynamics.\n",
        "  # The temperature is used to effect probability of next characters.\n",
        "  # Higher probability == lesss surprising/ more expected\n",
        "  # Lower temperature == more surprising / less expected\n",
        " \n",
        "  temperature = temp\n",
        "\n",
        "  # Here batch size == 1\n",
        "  model.reset_states()\n",
        "\n",
        "  for i in range(num_generate):\n",
        "\n",
        "      # Generate Predictions\n",
        "      predictions = model(input_eval)\n",
        "\n",
        "      # Remove the batch shape dimension\n",
        "      predictions = tf.squeeze(predictions, 0)\n",
        "\n",
        "      # Use a cateogircal disitribution to select the next character\n",
        "      predictions = predictions / temperature\n",
        "      predicted_id = tf.random.categorical(predictions, num_samples=1)[-1,0].numpy()\n",
        "\n",
        "      # Pass the predicted charracter for the next input\n",
        "      input_eval = tf.expand_dims([predicted_id], 0)\n",
        "\n",
        "      # Transform back to character letter\n",
        "      text_generated.append(ind_to_char[predicted_id])\n",
        "\n",
        "  return (start_seed + ''.join(text_generated))"
      ],
      "metadata": {
        "id": "aQGBTSNP9Fo1"
      },
      "execution_count": 43,
      "outputs": []
    },
    {
      "cell_type": "code",
      "source": [
        "print(generate_text(model,\"JULIET\",gen_size=1000))"
      ],
      "metadata": {
        "colab": {
          "base_uri": "https://localhost:8080/"
        },
        "id": "MGQrbI8w9Wj1",
        "outputId": "82ab61f0-efdf-4772-ee87-77c09515df7d"
      },
      "execution_count": 44,
      "outputs": [
        {
          "output_type": "stream",
          "name": "stdout",
          "text": [
            "JULIET. I am my conscience. Saw you my merry groan\n",
            "    To do my business. Wear you him once.  \n",
            "  LEONTES. You are love to be a man.\n",
            "  THERSITES. That's my charge; the length of her virtues, fit, Sir Toby the stars down.\n",
            "  GRATIANO. Youngling, but I will do't; there there be\n",
            "    cleward. Trust speech breath than the window or\n",
            "    the father to be his good few wounded from the French,\n",
            "    And say 'Eg. The revenges wall at thand directed.\n",
            "    I pray them purpose that gave gallect him to sign; and\n",
            "    she says stune my daughter their question make's good joy be returned and\n",
            "    conquering eyes between Macbeth, with Mars his sword ]- 'giv, you sent a man of the\n",
            "    champion- why to be the boy-'tis aside\n",
            "            And the Duke bears,\n",
            "               Of cannons'red in an adulter;\n",
            "         And infend me to my sin,\n",
            "    Your bondmen attempt it and fitth in fury!\n",
            "    Mettle keep with her; and therefore cemes then.\n",
            "  CAMILLO. This unnecessant streams have gone too long,\n",
            "    But smooth'd the disposition\n"
          ]
        }
      ]
    }
  ]
}